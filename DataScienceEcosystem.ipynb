{
 "cells": [
  {
   "cell_type": "markdown",
   "id": "f645d4db",
   "metadata": {},
   "source": [
    "# Data Science Tools and Ecosystem\n",
    "\n",
    "In this notebook, Data Science Tools and Ecosystem are sumarized "
   ]
  },
  {
   "cell_type": "markdown",
   "id": "a87a8a9b",
   "metadata": {},
   "source": [
    "Some of the popular languages that Data Scientists use are:\n",
    "\n",
    "1 - Python\n",
    "2 - Java\n",
    "3 - R\n",
    "4 - C++\n",
    "\n"
   ]
  },
  {
   "cell_type": "markdown",
   "id": "67c53d72",
   "metadata": {},
   "source": [
    "Some of the commonly used libraries used by Data Scientists include:\n",
    "\n",
    "1 - Pandas\n",
    "2 - Numpy\n",
    "3 - matplotlib"
   ]
  },
  {
   "cell_type": "markdown",
   "id": "e2bd0579",
   "metadata": {},
   "source": [
    "Data Science Tools:\n",
    "\n",
    "Data Managment Tools | Data Visualization Tools  |  Data Integration \n",
    "\n",
    "        MySQL        |            Dust           |   Apache Airflow "
   ]
  },
  {
   "cell_type": "code",
   "execution_count": 1,
   "id": "0f2e9bd5",
   "metadata": {},
   "outputs": [
    {
     "data": {
      "text/plain": [
       "17"
      ]
     },
     "execution_count": 1,
     "metadata": {},
     "output_type": "execute_result"
    }
   ],
   "source": [
    "### Below are a few examples of evaluating arithmetic expressions in Python\n",
    "\n",
    "(3*4)+5  #this is a simple arithmetic expression to multiply then add integrers "
   ]
  },
  {
   "cell_type": "code",
   "execution_count": 3,
   "id": "06414b54",
   "metadata": {},
   "outputs": [
    {
     "name": "stdout",
     "output_type": "stream",
     "text": [
      "3.3333333333333335\n"
     ]
    }
   ],
   "source": [
    "# Convert minutes in hours - 200 minutes\n",
    "\n",
    "h = 60\n",
    "t = 200\n",
    "\n",
    "TotalHours = t/h\n",
    "\n",
    "print(TotalHours)"
   ]
  },
  {
   "cell_type": "markdown",
   "id": "8a980293",
   "metadata": {},
   "source": [
    "**Objectives:**\n",
    "\n",
    "List popular languages for Data Science: Python , Java , C++ , SQL , R\n",
    "\n",
    "\n",
    "## Author\n",
    "\n",
    "Carlos Cardoso"
   ]
  },
  {
   "cell_type": "code",
   "execution_count": null,
   "id": "21ea3ea6",
   "metadata": {},
   "outputs": [],
   "source": []
  }
 ],
 "metadata": {
  "kernelspec": {
   "display_name": "Python 3 (ipykernel)",
   "language": "python",
   "name": "python3"
  },
  "language_info": {
   "codemirror_mode": {
    "name": "ipython",
    "version": 3
   },
   "file_extension": ".py",
   "mimetype": "text/x-python",
   "name": "python",
   "nbconvert_exporter": "python",
   "pygments_lexer": "ipython3",
   "version": "3.11.4"
  }
 },
 "nbformat": 4,
 "nbformat_minor": 5
}
